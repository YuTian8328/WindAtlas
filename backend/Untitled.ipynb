{
 "cells": [
  {
   "cell_type": "code",
   "execution_count": 1,
   "id": "9612b303",
   "metadata": {},
   "outputs": [],
   "source": [
    "import numpy as np\n",
    "import pandas as pd\n",
    "import math\n",
    "from fractions import Fraction\n",
    "import numpy as np\n",
    "import matplotlib.pyplot as plt\n",
    "from mpl_toolkits.basemap import Basemap\n",
    "import json"
   ]
  },
  {
   "cell_type": "code",
   "execution_count": 2,
   "id": "c3816c18",
   "metadata": {},
   "outputs": [],
   "source": [
    "import mpl_toolkits"
   ]
  },
  {
   "cell_type": "code",
   "execution_count": 10,
   "id": "11fa17ad",
   "metadata": {},
   "outputs": [
    {
     "data": {
      "text/plain": [
       "_NamespacePath(['/Users/tiany4/Documents/00_mom_stuff/aGit_repos/sowimap/venv/lib/python3.11/site-packages/mpl_toolkits'])"
      ]
     },
     "execution_count": 10,
     "metadata": {},
     "output_type": "execute_result"
    }
   ],
   "source": [
    "mpl_toolkits.__path__"
   ]
  },
  {
   "cell_type": "code",
   "execution_count": null,
   "id": "dec5f6c0",
   "metadata": {},
   "outputs": [],
   "source": []
  }
 ],
 "metadata": {
  "kernelspec": {
   "display_name": "Python 3 (ipykernel)",
   "language": "python",
   "name": "python3"
  },
  "language_info": {
   "codemirror_mode": {
    "name": "ipython",
    "version": 3
   },
   "file_extension": ".py",
   "mimetype": "text/x-python",
   "name": "python",
   "nbconvert_exporter": "python",
   "pygments_lexer": "ipython3",
   "version": "3.11.1"
  },
  "toc": {
   "base_numbering": 1,
   "nav_menu": {},
   "number_sections": true,
   "sideBar": true,
   "skip_h1_title": false,
   "title_cell": "Table of Contents",
   "title_sidebar": "Contents",
   "toc_cell": false,
   "toc_position": {},
   "toc_section_display": true,
   "toc_window_display": false
  }
 },
 "nbformat": 4,
 "nbformat_minor": 5
}
